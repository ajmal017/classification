{
  "nbformat": 4,
  "nbformat_minor": 0,
  "metadata": {
    "colab": {
      "name": "Spike.ipynb",
      "provenance": [],
      "collapsed_sections": [],
      "toc_visible": true
    },
    "kernelspec": {
      "name": "python3",
      "display_name": "Python 3"
    }
  },
  "cells": [
    {
      "cell_type": "code",
      "metadata": {
        "id": "UNwUiKhH9rav",
        "colab_type": "code",
        "colab": {}
      },
      "source": [
        "from google.colab import drive\n",
        "drive.mount('/content/drive/')"
      ],
      "execution_count": null,
      "outputs": []
    },
    {
      "cell_type": "code",
      "metadata": {
        "id": "CQtiqwXZU4dV",
        "colab_type": "code",
        "colab": {
          "base_uri": "https://localhost:8080/",
          "height": 67
        },
        "outputId": "af80e76d-b9cc-4348-81ef-eb8d4f280cbd"
      },
      "source": [
        "!pip install yahoofinancials"
      ],
      "execution_count": null,
      "outputs": [
        {
          "output_type": "stream",
          "text": [
            "Requirement already satisfied: yahoofinancials in /usr/local/lib/python3.6/dist-packages (1.5)\n",
            "Requirement already satisfied: beautifulsoup4 in /usr/local/lib/python3.6/dist-packages (from yahoofinancials) (4.6.3)\n",
            "Requirement already satisfied: pytz in /usr/local/lib/python3.6/dist-packages (from yahoofinancials) (2018.9)\n"
          ],
          "name": "stdout"
        }
      ]
    },
    {
      "cell_type": "code",
      "metadata": {
        "id": "1BOHeZcG56Lw",
        "colab_type": "code",
        "colab": {
          "base_uri": "https://localhost:8080/",
          "height": 118
        },
        "outputId": "89861b06-181e-4d5f-adec-c52de8dad406"
      },
      "source": [
        "pip install pandas-ta"
      ],
      "execution_count": null,
      "outputs": [
        {
          "output_type": "stream",
          "text": [
            "Requirement already satisfied: pandas-ta in /usr/local/lib/python3.6/dist-packages (0.1.66b0)\n",
            "Requirement already satisfied: pandas in /usr/local/lib/python3.6/dist-packages (from pandas-ta) (1.0.5)\n",
            "Requirement already satisfied: python-dateutil>=2.6.1 in /usr/local/lib/python3.6/dist-packages (from pandas->pandas-ta) (2.8.1)\n",
            "Requirement already satisfied: numpy>=1.13.3 in /usr/local/lib/python3.6/dist-packages (from pandas->pandas-ta) (1.18.5)\n",
            "Requirement already satisfied: pytz>=2017.2 in /usr/local/lib/python3.6/dist-packages (from pandas->pandas-ta) (2018.9)\n",
            "Requirement already satisfied: six>=1.5 in /usr/local/lib/python3.6/dist-packages (from python-dateutil>=2.6.1->pandas->pandas-ta) (1.12.0)\n"
          ],
          "name": "stdout"
        }
      ]
    },
    {
      "cell_type": "code",
      "metadata": {
        "id": "UF0Qe6mpfJsC",
        "colab_type": "code",
        "colab": {}
      },
      "source": [
        "!pip install pycaret"
      ],
      "execution_count": null,
      "outputs": []
    },
    {
      "cell_type": "code",
      "metadata": {
        "id": "DxwFnew30drY",
        "colab_type": "code",
        "colab": {}
      },
      "source": [
        "!pip install costcla"
      ],
      "execution_count": null,
      "outputs": []
    },
    {
      "cell_type": "code",
      "metadata": {
        "id": "q4v6WieeUueR",
        "colab_type": "code",
        "colab": {}
      },
      "source": [
        "import pandas as pd\n",
        "from numpy import mean\n",
        "from datetime import datetime\n",
        "import matplotlib.pyplot as plt\n",
        "from yahoofinancials import YahooFinancials\n",
        "from sklearn.preprocessing import MinMaxScaler\n",
        "from sklearn.metrics import f1_score\n",
        "import numpy as np\n",
        "import seaborn as sns\n",
        "import scipy.stats as st\n",
        "from sklearn.model_selection import cross_val_score\n",
        "from imblearn.over_sampling import ADASYN\n",
        "from imblearn.combine import SMOTETomek\n",
        "from sklearn.model_selection import train_test_split\n",
        "from sklearn.feature_selection import VarianceThreshold\n",
        "from sklearn.ensemble import ExtraTreesClassifier,RandomForestClassifier\n",
        "from catboost import CatBoostClassifier\n",
        "from catboost.utils import Pool, get_confusion_matrix\n",
        "from lightgbm import LGBMClassifier\n",
        "from sklearn.svm import SVC\n",
        "from sklearn.neural_network.multilayer_perceptron import MLPClassifier\n",
        "from mlxtend.classifier import StackingCVClassifier\n",
        "from sklearn.neighbors import KNeighborsClassifier\n",
        "from sklearn.ensemble import AdaBoostClassifier\n",
        "from costcla.metrics import cost_loss, savings_score\n",
        "from costcla.models import CostSensitiveRandomForestClassifier\n",
        "from sklearn.metrics import classification_report\n",
        "from sklearn.metrics import f1_score, precision_score, recall_score, accuracy_score\n",
        "from sklearn.metrics import plot_confusion_matrix\n",
        "from yellowbrick.classifier import ConfusionMatrix\n",
        "from sklearn.model_selection import GridSearchCV\n",
        "from sklearn.model_selection import RandomizedSearchCV\n",
        "from sklearn.model_selection import cross_val_score\n",
        "from statsmodels.stats.outliers_influence import summary_table\n",
        "from statsmodels.stats.outliers_influence import variance_inflation_factor\n",
        "from sklearn.model_selection import KFold\n",
        "from xgboost import XGBClassifier, plot_importance, DMatrix, plot_tree\n",
        "import pandas_ta as ta\n"
      ],
      "execution_count": null,
      "outputs": []
    },
    {
      "cell_type": "code",
      "metadata": {
        "id": "0F-S0cUsUd7u",
        "colab_type": "code",
        "colab": {}
      },
      "source": [
        "ticker_details = pd.read_excel('/content/drive/My Drive/Colab Notebooks/Ticker List.xlsx')"
      ],
      "execution_count": null,
      "outputs": []
    },
    {
      "cell_type": "code",
      "metadata": {
        "id": "SSLU-ABDVeY5",
        "colab_type": "code",
        "colab": {}
      },
      "source": [
        "ticker = ticker_details['Ticker'].to_list()\n",
        "names = ticker_details['Description'].to_list()\n",
        "print(names)"
      ],
      "execution_count": null,
      "outputs": []
    },
    {
      "cell_type": "code",
      "metadata": {
        "id": "L8r6ehzVkuf9",
        "colab_type": "code",
        "colab": {}
      },
      "source": [
        "#Extracting Data from Yahoo Finance and Adding them to Values table using date as key\n",
        "end_date= \"2020-06-19\"\n",
        "start_date = \"2000-01-01\"\n",
        "date_range = pd.bdate_range(start=start_date,end=end_date)\n",
        "values = pd.DataFrame({ 'Date': date_range})\n",
        "values['Date']= pd.to_datetime(values['Date'])"
      ],
      "execution_count": null,
      "outputs": []
    },
    {
      "cell_type": "code",
      "metadata": {
        "id": "QObFDWxUk2_u",
        "colab_type": "code",
        "colab": {}
      },
      "source": [
        "#Extracting Data from Yahoo Finance and Adding them to Values table using date as key\n",
        "for i in ticker:\n",
        "    raw_data = YahooFinancials(i)\n",
        "    raw_data = raw_data.get_historical_price_data(start_date, end_date, \"daily\")\n",
        "    df = pd.DataFrame(raw_data[i]['prices'])[['formatted_date','adjclose']]\n",
        "    df.columns = ['Date1',i]\n",
        "    df['Date1']= pd.to_datetime(df['Date1'])\n",
        "    values = values.merge(df,how='left',left_on='Date',right_on='Date1')\n",
        "    values = values.drop(labels='Date1', axis=1)"
      ],
      "execution_count": null,
      "outputs": []
    },
    {
      "cell_type": "code",
      "metadata": {
        "id": "aOqD5nA_k7x_",
        "colab_type": "code",
        "colab": {
          "base_uri": "https://localhost:8080/",
          "height": 333
        },
        "outputId": "4ab33898-1435-4de6-ffef-d859588dbe5d"
      },
      "source": [
        "#Renaming columns to represent instrument names rather than their ticker codes for ease of readability\n",
        "names.insert(0,'Date')\n",
        "values.columns = names\n",
        "#print(values.shape)\n",
        "#print(values.isna().sum())\n",
        "values.tail()"
      ],
      "execution_count": null,
      "outputs": [
        {
          "output_type": "execute_result",
          "data": {
            "text/html": [
              "<div>\n",
              "<style scoped>\n",
              "    .dataframe tbody tr th:only-of-type {\n",
              "        vertical-align: middle;\n",
              "    }\n",
              "\n",
              "    .dataframe tbody tr th {\n",
              "        vertical-align: top;\n",
              "    }\n",
              "\n",
              "    .dataframe thead th {\n",
              "        text-align: right;\n",
              "    }\n",
              "</style>\n",
              "<table border=\"1\" class=\"dataframe\">\n",
              "  <thead>\n",
              "    <tr style=\"text-align: right;\">\n",
              "      <th></th>\n",
              "      <th>Date</th>\n",
              "      <th>SPX</th>\n",
              "      <th>USD Index</th>\n",
              "      <th>VIX</th>\n",
              "      <th>Gold</th>\n",
              "      <th>Oil</th>\n",
              "      <th>Nikkei</th>\n",
              "      <th>Dax</th>\n",
              "      <th>10Yr</th>\n",
              "      <th>2Yr</th>\n",
              "      <th>EEM</th>\n",
              "      <th>High Yield Fund</th>\n",
              "      <th>XLE</th>\n",
              "      <th>XLF</th>\n",
              "      <th>XLI</th>\n",
              "      <th>AUDJPY</th>\n",
              "      <th>XLK</th>\n",
              "      <th>SSE</th>\n",
              "      <th>XLP</th>\n",
              "      <th>XLY</th>\n",
              "      <th>XLU</th>\n",
              "      <th>XLV</th>\n",
              "      <th>Lockheed</th>\n",
              "    </tr>\n",
              "  </thead>\n",
              "  <tbody>\n",
              "    <tr>\n",
              "      <th>5335</th>\n",
              "      <td>2020-06-15</td>\n",
              "      <td>3066.590088</td>\n",
              "      <td>96.680000</td>\n",
              "      <td>34.400002</td>\n",
              "      <td>1731.400024</td>\n",
              "      <td>37.259998</td>\n",
              "      <td>21530.949219</td>\n",
              "      <td>11911.349609</td>\n",
              "      <td>138.406250</td>\n",
              "      <td>110.332031</td>\n",
              "      <td>39.279999</td>\n",
              "      <td>5.65</td>\n",
              "      <td>39.434315</td>\n",
              "      <td>24.006859</td>\n",
              "      <td>69.192810</td>\n",
              "      <td>74.778999</td>\n",
              "      <td>100.094139</td>\n",
              "      <td>NaN</td>\n",
              "      <td>58.335419</td>\n",
              "      <td>126.235977</td>\n",
              "      <td>58.580917</td>\n",
              "      <td>97.407364</td>\n",
              "      <td>373.279999</td>\n",
              "    </tr>\n",
              "    <tr>\n",
              "      <th>5336</th>\n",
              "      <td>2020-06-16</td>\n",
              "      <td>3124.739990</td>\n",
              "      <td>96.959999</td>\n",
              "      <td>33.669998</td>\n",
              "      <td>1735.400024</td>\n",
              "      <td>37.810001</td>\n",
              "      <td>22582.210938</td>\n",
              "      <td>12315.660156</td>\n",
              "      <td>138.406250</td>\n",
              "      <td>110.316406</td>\n",
              "      <td>39.529999</td>\n",
              "      <td>5.71</td>\n",
              "      <td>40.569756</td>\n",
              "      <td>24.384451</td>\n",
              "      <td>70.546799</td>\n",
              "      <td>74.057999</td>\n",
              "      <td>102.228264</td>\n",
              "      <td>NaN</td>\n",
              "      <td>59.248302</td>\n",
              "      <td>128.889801</td>\n",
              "      <td>58.848682</td>\n",
              "      <td>99.807198</td>\n",
              "      <td>382.769989</td>\n",
              "    </tr>\n",
              "    <tr>\n",
              "      <th>5337</th>\n",
              "      <td>2020-06-17</td>\n",
              "      <td>3113.489990</td>\n",
              "      <td>97.160004</td>\n",
              "      <td>33.470001</td>\n",
              "      <td>1736.900024</td>\n",
              "      <td>37.439999</td>\n",
              "      <td>22455.759766</td>\n",
              "      <td>12382.139648</td>\n",
              "      <td>138.593750</td>\n",
              "      <td>110.324219</td>\n",
              "      <td>39.910000</td>\n",
              "      <td>5.71</td>\n",
              "      <td>39.187481</td>\n",
              "      <td>24.016796</td>\n",
              "      <td>70.039047</td>\n",
              "      <td>73.495003</td>\n",
              "      <td>102.208313</td>\n",
              "      <td>NaN</td>\n",
              "      <td>59.158997</td>\n",
              "      <td>128.550598</td>\n",
              "      <td>58.670174</td>\n",
              "      <td>99.707611</td>\n",
              "      <td>382.109985</td>\n",
              "    </tr>\n",
              "    <tr>\n",
              "      <th>5338</th>\n",
              "      <td>2020-06-18</td>\n",
              "      <td>3115.340088</td>\n",
              "      <td>97.419998</td>\n",
              "      <td>32.939999</td>\n",
              "      <td>1729.800049</td>\n",
              "      <td>39.290001</td>\n",
              "      <td>22355.460938</td>\n",
              "      <td>12281.530273</td>\n",
              "      <td>138.671875</td>\n",
              "      <td>110.324219</td>\n",
              "      <td>39.930000</td>\n",
              "      <td>5.70</td>\n",
              "      <td>39.671276</td>\n",
              "      <td>23.986986</td>\n",
              "      <td>69.780197</td>\n",
              "      <td>73.370003</td>\n",
              "      <td>102.667046</td>\n",
              "      <td>NaN</td>\n",
              "      <td>59.466602</td>\n",
              "      <td>128.081680</td>\n",
              "      <td>58.660259</td>\n",
              "      <td>99.369049</td>\n",
              "      <td>378.390015</td>\n",
              "    </tr>\n",
              "    <tr>\n",
              "      <th>5339</th>\n",
              "      <td>2020-06-19</td>\n",
              "      <td>NaN</td>\n",
              "      <td>NaN</td>\n",
              "      <td>NaN</td>\n",
              "      <td>NaN</td>\n",
              "      <td>NaN</td>\n",
              "      <td>22478.789062</td>\n",
              "      <td>NaN</td>\n",
              "      <td>NaN</td>\n",
              "      <td>NaN</td>\n",
              "      <td>NaN</td>\n",
              "      <td>NaN</td>\n",
              "      <td>NaN</td>\n",
              "      <td>NaN</td>\n",
              "      <td>NaN</td>\n",
              "      <td>NaN</td>\n",
              "      <td>NaN</td>\n",
              "      <td>NaN</td>\n",
              "      <td>NaN</td>\n",
              "      <td>NaN</td>\n",
              "      <td>NaN</td>\n",
              "      <td>NaN</td>\n",
              "      <td>NaN</td>\n",
              "    </tr>\n",
              "  </tbody>\n",
              "</table>\n",
              "</div>"
            ],
            "text/plain": [
              "           Date          SPX  USD Index  ...        XLU        XLV    Lockheed\n",
              "5335 2020-06-15  3066.590088  96.680000  ...  58.580917  97.407364  373.279999\n",
              "5336 2020-06-16  3124.739990  96.959999  ...  58.848682  99.807198  382.769989\n",
              "5337 2020-06-17  3113.489990  97.160004  ...  58.670174  99.707611  382.109985\n",
              "5338 2020-06-18  3115.340088  97.419998  ...  58.660259  99.369049  378.390015\n",
              "5339 2020-06-19          NaN        NaN  ...        NaN        NaN         NaN\n",
              "\n",
              "[5 rows x 23 columns]"
            ]
          },
          "metadata": {
            "tags": []
          },
          "execution_count": 196
        }
      ]
    },
    {
      "cell_type": "code",
      "metadata": {
        "id": "fGEFuG0yAh8w",
        "colab_type": "code",
        "colab": {}
      },
      "source": [
        ""
      ],
      "execution_count": null,
      "outputs": []
    },
    {
      "cell_type": "code",
      "metadata": {
        "id": "n_JJlb6Tk_ZH",
        "colab_type": "code",
        "colab": {}
      },
      "source": [
        "#Front filling the NaN values in the data set\n",
        "values = values.fillna(method=\"ffill\",axis=0)\n",
        "values = values.fillna(method=\"bfill\",axis=0)\n",
        "values.isna().sum()\n",
        "\n",
        "# Co-ercing numeric type to all columns except Date\n",
        "cols=values.columns.drop('Date')\n",
        "values[cols] = values[cols].apply(pd.to_numeric,errors='coerce').round(decimals=4)\n",
        "#print(values.tail())"
      ],
      "execution_count": null,
      "outputs": []
    },
    {
      "cell_type": "code",
      "metadata": {
        "id": "0sGCCrbn-FCg",
        "colab_type": "code",
        "colab": {}
      },
      "source": [
        "values['SPX-RSI'] = ta.rsi( values['SPX'] )\n",
        "\n",
        "BBANDS = ta.bbands( values['SPX'] )\n",
        "keys = BBANDS.keys().to_list()\n",
        "\n",
        "Upper = BBANDS[ 'BBU_5' ]\n",
        "Lower = BBANDS[ 'BBL_5' ]\n",
        "\n",
        "Upper_perc = Upper / values['SPX']\n",
        "Lower_perc = Lower / values['SPX']\n",
        "\n",
        "values[ 'BBU-Distance' ] = Upper_perc\n",
        "values[ 'BBL-Distance' ] = Lower_perc\n",
        "values['MACD-Histogram'] = ta.macd( values[ 'SPX' ] )[ 'MACDH_12_26_9' ]\n"
      ],
      "execution_count": null,
      "outputs": []
    },
    {
      "cell_type": "code",
      "metadata": {
        "id": "VrnxN0mJlDFS",
        "colab_type": "code",
        "colab": {}
      },
      "source": [
        "imp = ['Gold','USD Index', 'Oil', 'SPX','VIX', 'High Yield Fund' , 'Nikkei', 'Dax', '10Yr', '2Yr' , 'EEM' ,'XLE', 'XLF', 'XLI', 'AUDJPY', 'XLK', 'SSE', 'XLP','XLY', 'XLU', 'XLV', 'Lockheed']\n",
        "# Calculating Short term -Historical Returns\n",
        "change_days = [1,3,5,14,21]\n",
        "\n",
        "data = pd.DataFrame(data=values['Date'])\n",
        "for i in change_days:\n",
        "    print(data.shape)\n",
        "    x= values[cols].pct_change(periods=i).add_suffix(\"-T-\"+str(i))\n",
        "    data=pd.concat(objs=(data,x),axis=1)\n",
        "    x=[]\n",
        "#print(data.shape)\n",
        "\n"
      ],
      "execution_count": null,
      "outputs": []
    },
    {
      "cell_type": "code",
      "metadata": {
        "id": "zHJshNX2Azxd",
        "colab_type": "code",
        "colab": {}
      },
      "source": [
        "data.ta.macd"
      ],
      "execution_count": null,
      "outputs": []
    },
    {
      "cell_type": "code",
      "metadata": {
        "id": "YmtnDd1VlHAW",
        "colab_type": "code",
        "colab": {
          "base_uri": "https://localhost:8080/",
          "height": 84
        },
        "outputId": "2d606e50-e79c-4cef-fe37-2635d4049938"
      },
      "source": [
        "# Calculating Long term Historical Returns\n",
        "change_days = [60,90,180,250]\n",
        "\n",
        "for i in change_days:\n",
        "    print(data.shape)\n",
        "    x= values[imp].pct_change(periods=i).add_suffix(\"-T-\"+str(i))\n",
        "    data=pd.concat(objs=(data,x),axis=1)\n",
        "    x=[]\n",
        "#print(data.shape)"
      ],
      "execution_count": null,
      "outputs": [
        {
          "output_type": "stream",
          "text": [
            "(5340, 111)\n",
            "(5340, 133)\n",
            "(5340, 155)\n",
            "(5340, 177)\n"
          ],
          "name": "stdout"
        }
      ]
    },
    {
      "cell_type": "code",
      "metadata": {
        "id": "eobINUJqlK77",
        "colab_type": "code",
        "colab": {}
      },
      "source": [
        "#Calculating Moving averages for SPX\n",
        "moving_avg = pd.DataFrame(values['Date'],columns=['Date'])\n",
        "moving_avg['Date']=pd.to_datetime(moving_avg['Date'],format='%Y-%b-%d')\n",
        "moving_avg['SPX/15SMA'] = (values['SPX']/(values['SPX'].rolling(window=15).mean()))-1\n",
        "moving_avg['SPX/30SMA'] = (values['SPX']/(values['SPX'].rolling(window=30).mean()))-1\n",
        "moving_avg['SPX/60SMA'] = (values['SPX']/(values['SPX'].rolling(window=60).mean()))-1\n",
        "moving_avg['SPX/90SMA'] = (values['SPX']/(values['SPX'].rolling(window=90).mean()))-1\n",
        "moving_avg['SPX/180SMA'] = (values['SPX']/(values['SPX'].rolling(window=180).mean()))-1\n",
        "moving_avg['SPX/90EMA'] = (values['SPX']/(values['SPX'].ewm(span=90,adjust=True,ignore_na=True).mean()))-1\n",
        "moving_avg['SPX/180EMA'] = (values['SPX']/(values['SPX'].ewm(span=180,adjust=True,ignore_na=True).mean()))-1\n",
        "moving_avg = moving_avg.dropna(axis=0)\n",
        "#print(moving_avg.shape)\n",
        "#print(moving_avg.head())\n",
        "\n",
        "#Merging Moving Average values to the feature space\n",
        "#print(data.shape)\n",
        "data['Date']=pd.to_datetime(data['Date'],format='%Y-%b-%d')\n",
        "data = pd.merge(left=data,right=moving_avg,how='left',on='Date')\n",
        "#print(data.shape)\n",
        "data.isna().sum()"
      ],
      "execution_count": null,
      "outputs": []
    },
    {
      "cell_type": "code",
      "metadata": {
        "id": "GMO4iR4glP1b",
        "colab_type": "code",
        "colab": {
          "base_uri": "https://localhost:8080/",
          "height": 67
        },
        "outputId": "0e80bc21-765a-481b-e214-53d9044175f2"
      },
      "source": [
        "#Caluculating forward returns for Target\n",
        "y = pd.DataFrame(data=values['Date'])\n",
        "print(y.shape)\n",
        "\n",
        "y['SPX-T+14']=values[\"SPX\"].pct_change(periods=-14)\n",
        "y['SPX-T+22']=values[\"SPX\"].pct_change(periods=-22)\n",
        "print(y.shape)\n",
        "y.isna().sum()\n",
        "len(names)"
      ],
      "execution_count": null,
      "outputs": [
        {
          "output_type": "stream",
          "text": [
            "(5340, 1)\n",
            "(5340, 3)\n"
          ],
          "name": "stdout"
        },
        {
          "output_type": "execute_result",
          "data": {
            "text/plain": [
              "23"
            ]
          },
          "metadata": {
            "tags": []
          },
          "execution_count": 29
        }
      ]
    },
    {
      "cell_type": "code",
      "metadata": {
        "id": "75dPTTa9lTZh",
        "colab_type": "code",
        "colab": {
          "base_uri": "https://localhost:8080/",
          "height": 67
        },
        "outputId": "640a6c2a-cc3f-41e8-8cb9-e68e6cf1ac6a"
      },
      "source": [
        "# Removing NAs\n",
        "print(data.shape)\n",
        "data = data[data['SPX-T-250'].notna()]\n",
        "y = y[y['SPX-T+22'].notna()]\n",
        "print(data.shape)\n",
        "print(y.shape)\n",
        "\n"
      ],
      "execution_count": null,
      "outputs": [
        {
          "output_type": "stream",
          "text": [
            "(5340, 206)\n",
            "(5090, 206)\n",
            "(5318, 3)\n"
          ],
          "name": "stdout"
        }
      ]
    },
    {
      "cell_type": "code",
      "metadata": {
        "id": "xDo0HwPUBytn",
        "colab_type": "code",
        "colab": {}
      },
      "source": [
        "#Adding Target Variables\n",
        "data = pd.merge(left=data,right=y,how='inner',on='Date',suffixes=(False,False))\n",
        "print(data.shape)\n",
        "data.isna().sum()\n",
        "\n"
      ],
      "execution_count": null,
      "outputs": []
    },
    {
      "cell_type": "code",
      "metadata": {
        "id": "K7qMaF6rB3AJ",
        "colab_type": "code",
        "colab": {
          "base_uri": "https://localhost:8080/",
          "height": 381
        },
        "outputId": "f8ab02bb-2a15-482d-a613-e403ff258b95"
      },
      "source": [
        "sns.distplot(data['SPX-T+14'])\n",
        "sns.distplot(data['SPX-T+22'])"
      ],
      "execution_count": null,
      "outputs": [
        {
          "output_type": "execute_result",
          "data": {
            "text/plain": [
              "<matplotlib.axes._subplots.AxesSubplot at 0x7f099a3dac88>"
            ]
          },
          "metadata": {
            "tags": []
          },
          "execution_count": 32
        },
        {
          "output_type": "display_data",
          "data": {
            "image/png": "[encoded data removed]",
            "text/plain": [
              "<Figure size 576x396 with 1 Axes>"
            ]
          },
          "metadata": {
            "tags": []
          }
        }
      ]
    },
    {
      "cell_type": "code",
      "metadata": {
        "id": "hcXllhEdlW7f",
        "colab_type": "code",
        "colab": {
          "base_uri": "https://localhost:8080/",
          "height": 50
        },
        "outputId": "19119ffd-4f85-41ab-bf69-ad2250405bdc"
      },
      "source": [
        "#Select Threshold p (left tail probability)\n",
        "p1 = 0.25\n",
        "p2 = 0.75\n",
        "#Get z-Value\n",
        "z1 = st.norm.ppf(p1)\n",
        "z2 = st.norm.ppf(p2)\n",
        "print(z1)\n",
        "print(z2)\n",
        "\n"
      ],
      "execution_count": null,
      "outputs": [
        {
          "output_type": "stream",
          "text": [
            "-0.6744897501960817\n",
            "0.6744897501960817\n"
          ],
          "name": "stdout"
        }
      ]
    },
    {
      "cell_type": "code",
      "metadata": {
        "id": "EX0ZLHy9gOTk",
        "colab_type": "code",
        "colab": {}
      },
      "source": [
        "#Calculating Threshold (t) for each Y\n",
        "t_141 = round((z1*np.std(data[\"SPX-T+14\"]))+np.mean(data[\"SPX-T+14\"]),5)\n",
        "t_142 = round((z2*np.std(data[\"SPX-T+14\"]))+np.mean(data[\"SPX-T+14\"]),5)\n",
        "t_221 = round((z1*np.std(data[\"SPX-T+22\"]))+np.mean(data[\"SPX-T+22\"]),5)\n",
        "t_222 = round((z2*np.std(data[\"SPX-T+22\"]))+np.mean(data[\"SPX-T+22\"]),5)"
      ],
      "execution_count": null,
      "outputs": []
    },
    {
      "cell_type": "code",
      "metadata": {
        "id": "iWMafrligkjb",
        "colab_type": "code",
        "colab": {
          "base_uri": "https://localhost:8080/",
          "height": 50
        },
        "outputId": "bce20746-bc10-4452-8d5a-876d5b7271ec"
      },
      "source": [
        "print(\"t_141=\",t_141)\n",
        "print(\"t_142=\",t_142)\n",
        "#print(\"t_221=\",t_221)\n",
        "#print(\"t_222=\",t_222)"
      ],
      "execution_count": null,
      "outputs": [
        {
          "output_type": "stream",
          "text": [
            "t_141= -0.02942\n",
            "t_142= 0.02636\n"
          ],
          "name": "stdout"
        }
      ]
    },
    {
      "cell_type": "code",
      "metadata": {
        "id": "UZ1SoK-RlcSO",
        "colab_type": "code",
        "colab": {}
      },
      "source": [
        "#Creating Labels\n",
        "data['Y-141'] = (data['SPX-T+14']< t_141)*1\n",
        "data['Y-142'] = (data['SPX-T+14']> t_142)*1\n",
        "data['Y-221']= (data['SPX-T+22']< t_221)*1\n",
        "data['Y-222']= (data['SPX-T+22']> t_222)*1\n",
        "#print(\"Y-141\", sum(data['Y-141']))\n",
        "#print(\"Y-142\", sum(data['Y-142']))\n",
        "#print(\"Y-221\", sum(data['Y-221']))\n",
        "#print(\"Y-222\", sum(data['Y-222']))\n",
        "\n",
        "data_TEST = data.iloc[: -150]\n",
        "\n"
      ],
      "execution_count": null,
      "outputs": []
    },
    {
      "cell_type": "code",
      "metadata": {
        "id": "NZKz7h-NllJI",
        "colab_type": "code",
        "colab": {}
      },
      "source": [
        "data = data.drop(['SPX-T+14','SPX-T+22','Date'],axis=1)\n",
        "#print(data.head())"
      ],
      "execution_count": null,
      "outputs": []
    },
    {
      "cell_type": "code",
      "metadata": {
        "id": "FBSjyuvkCU2G",
        "colab_type": "code",
        "colab": {}
      },
      "source": [
        "data_14 = data.drop(['Y-221','Y-222','Y-141'],axis=1)\n",
        "X = data_14.drop(['Y-142','SPX/90EMA','SPX-T-180','High Yield Fund-T-180','SPX-T-90','2Yr-T-90','SPX/180EMA','XLP-T-250','XLE-T-180','XLK-T-180','SPX/180SMA','SPX/90SMA','XLK-T-180','SPX-T-60','SPX-T-21','SPX-T-14','SPX-T-250','SPX-T-5','SPX-T-3','SPX-T-1','XLI-T-90','2Yr-T-180','High Yield Fund-T-250','XLY-T-180','XLI-T-180','SPX/30SMA','XLI-T-250','Dax-T-250','EEM-T-250','XLI-T-14'],axis=1)\n",
        "y= data_14['Y-142']\n",
        "feature_names = list(X.columns.values)\n"
      ],
      "execution_count": null,
      "outputs": []
    },
    {
      "cell_type": "code",
      "metadata": {
        "id": "nF0A0H3LLorZ",
        "colab_type": "code",
        "colab": {}
      },
      "source": [
        "vif = pd.DataFrame()\n",
        "vif[\"VIF Factor\"] = [variance_inflation_factor(X.values, i) for i in range(X.shape[1])]\n",
        "vif[\"features\"] = X.columns\n",
        "pd.set_option(\"display.max_rows\", None)                                                                     "
      ],
      "execution_count": null,
      "outputs": []
    },
    {
      "cell_type": "code",
      "metadata": {
        "id": "tHqzlIThNVr5",
        "colab_type": "code",
        "colab": {
          "base_uri": "https://localhost:8080/",
          "height": 1000
        },
        "outputId": "39f563bc-1d34-4728-c6cd-080c8fbf45ed"
      },
      "source": [
        "vif.round(1)"
      ],
      "execution_count": null,
      "outputs": [
        {
          "output_type": "execute_result",
          "data": {
            "text/html": [
              "<div>\n",
              "<style scoped>\n",
              "    .dataframe tbody tr th:only-of-type {\n",
              "        vertical-align: middle;\n",
              "    }\n",
              "\n",
              "    .dataframe tbody tr th {\n",
              "        vertical-align: top;\n",
              "    }\n",
              "\n",
              "    .dataframe thead th {\n",
              "        text-align: right;\n",
              "    }\n",
              "</style>\n",
              "<table border=\"1\" class=\"dataframe\">\n",
              "  <thead>\n",
              "    <tr style=\"text-align: right;\">\n",
              "      <th></th>\n",
              "      <th>VIF Factor</th>\n",
              "      <th>features</th>\n",
              "    </tr>\n",
              "  </thead>\n",
              "  <tbody>\n",
              "    <tr>\n",
              "      <th>0</th>\n",
              "      <td>1.9</td>\n",
              "      <td>USD Index-T-1</td>\n",
              "    </tr>\n",
              "    <tr>\n",
              "      <th>1</th>\n",
              "      <td>3.3</td>\n",
              "      <td>VIX-T-1</td>\n",
              "    </tr>\n",
              "    <tr>\n",
              "      <th>2</th>\n",
              "      <td>1.8</td>\n",
              "      <td>Gold-T-1</td>\n",
              "    </tr>\n",
              "    <tr>\n",
              "      <th>3</th>\n",
              "      <td>1.2</td>\n",
              "      <td>Oil-T-1</td>\n",
              "    </tr>\n",
              "    <tr>\n",
              "      <th>4</th>\n",
              "      <td>1.8</td>\n",
              "      <td>Nikkei-T-1</td>\n",
              "    </tr>\n",
              "    <tr>\n",
              "      <th>5</th>\n",
              "      <td>2.7</td>\n",
              "      <td>Dax-T-1</td>\n",
              "    </tr>\n",
              "    <tr>\n",
              "      <th>6</th>\n",
              "      <td>3.3</td>\n",
              "      <td>10Yr-T-1</td>\n",
              "    </tr>\n",
              "    <tr>\n",
              "      <th>7</th>\n",
              "      <td>3.2</td>\n",
              "      <td>2Yr-T-1</td>\n",
              "    </tr>\n",
              "    <tr>\n",
              "      <th>8</th>\n",
              "      <td>4.5</td>\n",
              "      <td>EEM-T-1</td>\n",
              "    </tr>\n",
              "    <tr>\n",
              "      <th>9</th>\n",
              "      <td>2.8</td>\n",
              "      <td>High Yield Fund-T-1</td>\n",
              "    </tr>\n",
              "    <tr>\n",
              "      <th>10</th>\n",
              "      <td>3.8</td>\n",
              "      <td>XLE-T-1</td>\n",
              "    </tr>\n",
              "    <tr>\n",
              "      <th>11</th>\n",
              "      <td>4.6</td>\n",
              "      <td>XLF-T-1</td>\n",
              "    </tr>\n",
              "    <tr>\n",
              "      <th>12</th>\n",
              "      <td>9.6</td>\n",
              "      <td>XLI-T-1</td>\n",
              "    </tr>\n",
              "    <tr>\n",
              "      <th>13</th>\n",
              "      <td>1.9</td>\n",
              "      <td>AUDJPY-T-1</td>\n",
              "    </tr>\n",
              "    <tr>\n",
              "      <th>14</th>\n",
              "      <td>4.9</td>\n",
              "      <td>XLK-T-1</td>\n",
              "    </tr>\n",
              "    <tr>\n",
              "      <th>15</th>\n",
              "      <td>1.6</td>\n",
              "      <td>SSE-T-1</td>\n",
              "    </tr>\n",
              "    <tr>\n",
              "      <th>16</th>\n",
              "      <td>3.8</td>\n",
              "      <td>XLP-T-1</td>\n",
              "    </tr>\n",
              "    <tr>\n",
              "      <th>17</th>\n",
              "      <td>7.3</td>\n",
              "      <td>XLY-T-1</td>\n",
              "    </tr>\n",
              "    <tr>\n",
              "      <th>18</th>\n",
              "      <td>3.0</td>\n",
              "      <td>XLU-T-1</td>\n",
              "    </tr>\n",
              "    <tr>\n",
              "      <th>19</th>\n",
              "      <td>4.5</td>\n",
              "      <td>XLV-T-1</td>\n",
              "    </tr>\n",
              "    <tr>\n",
              "      <th>20</th>\n",
              "      <td>2.3</td>\n",
              "      <td>Lockheed-T-1</td>\n",
              "    </tr>\n",
              "    <tr>\n",
              "      <th>21</th>\n",
              "      <td>4.0</td>\n",
              "      <td>USD Index-T-3</td>\n",
              "    </tr>\n",
              "    <tr>\n",
              "      <th>22</th>\n",
              "      <td>6.1</td>\n",
              "      <td>VIX-T-3</td>\n",
              "    </tr>\n",
              "    <tr>\n",
              "      <th>23</th>\n",
              "      <td>3.9</td>\n",
              "      <td>Gold-T-3</td>\n",
              "    </tr>\n",
              "    <tr>\n",
              "      <th>24</th>\n",
              "      <td>1.2</td>\n",
              "      <td>Oil-T-3</td>\n",
              "    </tr>\n",
              "    <tr>\n",
              "      <th>25</th>\n",
              "      <td>3.9</td>\n",
              "      <td>Nikkei-T-3</td>\n",
              "    </tr>\n",
              "    <tr>\n",
              "      <th>26</th>\n",
              "      <td>6.3</td>\n",
              "      <td>Dax-T-3</td>\n",
              "    </tr>\n",
              "    <tr>\n",
              "      <th>27</th>\n",
              "      <td>6.7</td>\n",
              "      <td>10Yr-T-3</td>\n",
              "    </tr>\n",
              "    <tr>\n",
              "      <th>28</th>\n",
              "      <td>6.2</td>\n",
              "      <td>2Yr-T-3</td>\n",
              "    </tr>\n",
              "    <tr>\n",
              "      <th>29</th>\n",
              "      <td>8.0</td>\n",
              "      <td>EEM-T-3</td>\n",
              "    </tr>\n",
              "    <tr>\n",
              "      <th>30</th>\n",
              "      <td>8.5</td>\n",
              "      <td>High Yield Fund-T-3</td>\n",
              "    </tr>\n",
              "    <tr>\n",
              "      <th>31</th>\n",
              "      <td>6.9</td>\n",
              "      <td>XLE-T-3</td>\n",
              "    </tr>\n",
              "    <tr>\n",
              "      <th>32</th>\n",
              "      <td>8.4</td>\n",
              "      <td>XLF-T-3</td>\n",
              "    </tr>\n",
              "    <tr>\n",
              "      <th>33</th>\n",
              "      <td>19.2</td>\n",
              "      <td>XLI-T-3</td>\n",
              "    </tr>\n",
              "    <tr>\n",
              "      <th>34</th>\n",
              "      <td>4.2</td>\n",
              "      <td>AUDJPY-T-3</td>\n",
              "    </tr>\n",
              "    <tr>\n",
              "      <th>35</th>\n",
              "      <td>8.8</td>\n",
              "      <td>XLK-T-3</td>\n",
              "    </tr>\n",
              "    <tr>\n",
              "      <th>36</th>\n",
              "      <td>3.2</td>\n",
              "      <td>SSE-T-3</td>\n",
              "    </tr>\n",
              "    <tr>\n",
              "      <th>37</th>\n",
              "      <td>6.9</td>\n",
              "      <td>XLP-T-3</td>\n",
              "    </tr>\n",
              "    <tr>\n",
              "      <th>38</th>\n",
              "      <td>14.3</td>\n",
              "      <td>XLY-T-3</td>\n",
              "    </tr>\n",
              "    <tr>\n",
              "      <th>39</th>\n",
              "      <td>5.7</td>\n",
              "      <td>XLU-T-3</td>\n",
              "    </tr>\n",
              "    <tr>\n",
              "      <th>40</th>\n",
              "      <td>8.0</td>\n",
              "      <td>XLV-T-3</td>\n",
              "    </tr>\n",
              "    <tr>\n",
              "      <th>41</th>\n",
              "      <td>4.2</td>\n",
              "      <td>Lockheed-T-3</td>\n",
              "    </tr>\n",
              "    <tr>\n",
              "      <th>42</th>\n",
              "      <td>4.6</td>\n",
              "      <td>USD Index-T-5</td>\n",
              "    </tr>\n",
              "    <tr>\n",
              "      <th>43</th>\n",
              "      <td>6.3</td>\n",
              "      <td>VIX-T-5</td>\n",
              "    </tr>\n",
              "    <tr>\n",
              "      <th>44</th>\n",
              "      <td>4.4</td>\n",
              "      <td>Gold-T-5</td>\n",
              "    </tr>\n",
              "    <tr>\n",
              "      <th>45</th>\n",
              "      <td>1.3</td>\n",
              "      <td>Oil-T-5</td>\n",
              "    </tr>\n",
              "    <tr>\n",
              "      <th>46</th>\n",
              "      <td>4.5</td>\n",
              "      <td>Nikkei-T-5</td>\n",
              "    </tr>\n",
              "    <tr>\n",
              "      <th>47</th>\n",
              "      <td>7.6</td>\n",
              "      <td>Dax-T-5</td>\n",
              "    </tr>\n",
              "    <tr>\n",
              "      <th>48</th>\n",
              "      <td>7.1</td>\n",
              "      <td>10Yr-T-5</td>\n",
              "    </tr>\n",
              "    <tr>\n",
              "      <th>49</th>\n",
              "      <td>6.3</td>\n",
              "      <td>2Yr-T-5</td>\n",
              "    </tr>\n",
              "    <tr>\n",
              "      <th>50</th>\n",
              "      <td>8.9</td>\n",
              "      <td>EEM-T-5</td>\n",
              "    </tr>\n",
              "    <tr>\n",
              "      <th>51</th>\n",
              "      <td>8.7</td>\n",
              "      <td>High Yield Fund-T-5</td>\n",
              "    </tr>\n",
              "    <tr>\n",
              "      <th>52</th>\n",
              "      <td>7.9</td>\n",
              "      <td>XLE-T-5</td>\n",
              "    </tr>\n",
              "    <tr>\n",
              "      <th>53</th>\n",
              "      <td>8.6</td>\n",
              "      <td>XLF-T-5</td>\n",
              "    </tr>\n",
              "    <tr>\n",
              "      <th>54</th>\n",
              "      <td>19.5</td>\n",
              "      <td>XLI-T-5</td>\n",
              "    </tr>\n",
              "    <tr>\n",
              "      <th>55</th>\n",
              "      <td>4.8</td>\n",
              "      <td>AUDJPY-T-5</td>\n",
              "    </tr>\n",
              "    <tr>\n",
              "      <th>56</th>\n",
              "      <td>9.1</td>\n",
              "      <td>XLK-T-5</td>\n",
              "    </tr>\n",
              "    <tr>\n",
              "      <th>57</th>\n",
              "      <td>3.6</td>\n",
              "      <td>SSE-T-5</td>\n",
              "    </tr>\n",
              "    <tr>\n",
              "      <th>58</th>\n",
              "      <td>7.3</td>\n",
              "      <td>XLP-T-5</td>\n",
              "    </tr>\n",
              "    <tr>\n",
              "      <th>59</th>\n",
              "      <td>15.1</td>\n",
              "      <td>XLY-T-5</td>\n",
              "    </tr>\n",
              "    <tr>\n",
              "      <th>60</th>\n",
              "      <td>5.8</td>\n",
              "      <td>XLU-T-5</td>\n",
              "    </tr>\n",
              "    <tr>\n",
              "      <th>61</th>\n",
              "      <td>8.1</td>\n",
              "      <td>XLV-T-5</td>\n",
              "    </tr>\n",
              "    <tr>\n",
              "      <th>62</th>\n",
              "      <td>4.4</td>\n",
              "      <td>Lockheed-T-5</td>\n",
              "    </tr>\n",
              "    <tr>\n",
              "      <th>63</th>\n",
              "      <td>6.2</td>\n",
              "      <td>USD Index-T-14</td>\n",
              "    </tr>\n",
              "    <tr>\n",
              "      <th>64</th>\n",
              "      <td>7.0</td>\n",
              "      <td>VIX-T-14</td>\n",
              "    </tr>\n",
              "    <tr>\n",
              "      <th>65</th>\n",
              "      <td>5.3</td>\n",
              "      <td>Gold-T-14</td>\n",
              "    </tr>\n",
              "    <tr>\n",
              "      <th>66</th>\n",
              "      <td>1.2</td>\n",
              "      <td>Oil-T-14</td>\n",
              "    </tr>\n",
              "    <tr>\n",
              "      <th>67</th>\n",
              "      <td>6.8</td>\n",
              "      <td>Nikkei-T-14</td>\n",
              "    </tr>\n",
              "    <tr>\n",
              "      <th>68</th>\n",
              "      <td>11.7</td>\n",
              "      <td>Dax-T-14</td>\n",
              "    </tr>\n",
              "    <tr>\n",
              "      <th>69</th>\n",
              "      <td>9.0</td>\n",
              "      <td>10Yr-T-14</td>\n",
              "    </tr>\n",
              "    <tr>\n",
              "      <th>70</th>\n",
              "      <td>7.8</td>\n",
              "      <td>2Yr-T-14</td>\n",
              "    </tr>\n",
              "    <tr>\n",
              "      <th>71</th>\n",
              "      <td>11.3</td>\n",
              "      <td>EEM-T-14</td>\n",
              "    </tr>\n",
              "    <tr>\n",
              "      <th>72</th>\n",
              "      <td>9.3</td>\n",
              "      <td>High Yield Fund-T-14</td>\n",
              "    </tr>\n",
              "    <tr>\n",
              "      <th>73</th>\n",
              "      <td>9.2</td>\n",
              "      <td>XLE-T-14</td>\n",
              "    </tr>\n",
              "    <tr>\n",
              "      <th>74</th>\n",
              "      <td>9.3</td>\n",
              "      <td>XLF-T-14</td>\n",
              "    </tr>\n",
              "    <tr>\n",
              "      <th>75</th>\n",
              "      <td>6.6</td>\n",
              "      <td>AUDJPY-T-14</td>\n",
              "    </tr>\n",
              "    <tr>\n",
              "      <th>76</th>\n",
              "      <td>10.8</td>\n",
              "      <td>XLK-T-14</td>\n",
              "    </tr>\n",
              "    <tr>\n",
              "      <th>77</th>\n",
              "      <td>4.6</td>\n",
              "      <td>SSE-T-14</td>\n",
              "    </tr>\n",
              "    <tr>\n",
              "      <th>78</th>\n",
              "      <td>8.8</td>\n",
              "      <td>XLP-T-14</td>\n",
              "    </tr>\n",
              "    <tr>\n",
              "      <th>79</th>\n",
              "      <td>16.4</td>\n",
              "      <td>XLY-T-14</td>\n",
              "    </tr>\n",
              "    <tr>\n",
              "      <th>80</th>\n",
              "      <td>6.5</td>\n",
              "      <td>XLU-T-14</td>\n",
              "    </tr>\n",
              "    <tr>\n",
              "      <th>81</th>\n",
              "      <td>9.1</td>\n",
              "      <td>XLV-T-14</td>\n",
              "    </tr>\n",
              "    <tr>\n",
              "      <th>82</th>\n",
              "      <td>5.4</td>\n",
              "      <td>Lockheed-T-14</td>\n",
              "    </tr>\n",
              "    <tr>\n",
              "      <th>83</th>\n",
              "      <td>6.6</td>\n",
              "      <td>USD Index-T-21</td>\n",
              "    </tr>\n",
              "    <tr>\n",
              "      <th>84</th>\n",
              "      <td>8.8</td>\n",
              "      <td>VIX-T-21</td>\n",
              "    </tr>\n",
              "    <tr>\n",
              "      <th>85</th>\n",
              "      <td>5.6</td>\n",
              "      <td>Gold-T-21</td>\n",
              "    </tr>\n",
              "    <tr>\n",
              "      <th>86</th>\n",
              "      <td>1.3</td>\n",
              "      <td>Oil-T-21</td>\n",
              "    </tr>\n",
              "    <tr>\n",
              "      <th>87</th>\n",
              "      <td>7.7</td>\n",
              "      <td>Nikkei-T-21</td>\n",
              "    </tr>\n",
              "    <tr>\n",
              "      <th>88</th>\n",
              "      <td>13.0</td>\n",
              "      <td>Dax-T-21</td>\n",
              "    </tr>\n",
              "    <tr>\n",
              "      <th>89</th>\n",
              "      <td>11.1</td>\n",
              "      <td>10Yr-T-21</td>\n",
              "    </tr>\n",
              "    <tr>\n",
              "      <th>90</th>\n",
              "      <td>10.0</td>\n",
              "      <td>2Yr-T-21</td>\n",
              "    </tr>\n",
              "    <tr>\n",
              "      <th>91</th>\n",
              "      <td>12.4</td>\n",
              "      <td>EEM-T-21</td>\n",
              "    </tr>\n",
              "    <tr>\n",
              "      <th>92</th>\n",
              "      <td>10.1</td>\n",
              "      <td>High Yield Fund-T-21</td>\n",
              "    </tr>\n",
              "    <tr>\n",
              "      <th>93</th>\n",
              "      <td>9.3</td>\n",
              "      <td>XLE-T-21</td>\n",
              "    </tr>\n",
              "    <tr>\n",
              "      <th>94</th>\n",
              "      <td>11.3</td>\n",
              "      <td>XLF-T-21</td>\n",
              "    </tr>\n",
              "    <tr>\n",
              "      <th>95</th>\n",
              "      <td>16.5</td>\n",
              "      <td>XLI-T-21</td>\n",
              "    </tr>\n",
              "    <tr>\n",
              "      <th>96</th>\n",
              "      <td>7.6</td>\n",
              "      <td>AUDJPY-T-21</td>\n",
              "    </tr>\n",
              "    <tr>\n",
              "      <th>97</th>\n",
              "      <td>13.3</td>\n",
              "      <td>XLK-T-21</td>\n",
              "    </tr>\n",
              "    <tr>\n",
              "      <th>98</th>\n",
              "      <td>5.2</td>\n",
              "      <td>SSE-T-21</td>\n",
              "    </tr>\n",
              "    <tr>\n",
              "      <th>99</th>\n",
              "      <td>9.8</td>\n",
              "      <td>XLP-T-21</td>\n",
              "    </tr>\n",
              "    <tr>\n",
              "      <th>100</th>\n",
              "      <td>19.2</td>\n",
              "      <td>XLY-T-21</td>\n",
              "    </tr>\n",
              "    <tr>\n",
              "      <th>101</th>\n",
              "      <td>7.1</td>\n",
              "      <td>XLU-T-21</td>\n",
              "    </tr>\n",
              "    <tr>\n",
              "      <th>102</th>\n",
              "      <td>10.1</td>\n",
              "      <td>XLV-T-21</td>\n",
              "    </tr>\n",
              "    <tr>\n",
              "      <th>103</th>\n",
              "      <td>5.8</td>\n",
              "      <td>Lockheed-T-21</td>\n",
              "    </tr>\n",
              "    <tr>\n",
              "      <th>104</th>\n",
              "      <td>6.6</td>\n",
              "      <td>Gold-T-60</td>\n",
              "    </tr>\n",
              "    <tr>\n",
              "      <th>105</th>\n",
              "      <td>8.1</td>\n",
              "      <td>USD Index-T-60</td>\n",
              "    </tr>\n",
              "    <tr>\n",
              "      <th>106</th>\n",
              "      <td>8.3</td>\n",
              "      <td>Oil-T-60</td>\n",
              "    </tr>\n",
              "    <tr>\n",
              "      <th>107</th>\n",
              "      <td>14.8</td>\n",
              "      <td>VIX-T-60</td>\n",
              "    </tr>\n",
              "    <tr>\n",
              "      <th>108</th>\n",
              "      <td>14.3</td>\n",
              "      <td>High Yield Fund-T-60</td>\n",
              "    </tr>\n",
              "    <tr>\n",
              "      <th>109</th>\n",
              "      <td>11.4</td>\n",
              "      <td>Nikkei-T-60</td>\n",
              "    </tr>\n",
              "    <tr>\n",
              "      <th>110</th>\n",
              "      <td>18.4</td>\n",
              "      <td>Dax-T-60</td>\n",
              "    </tr>\n",
              "    <tr>\n",
              "      <th>111</th>\n",
              "      <td>12.1</td>\n",
              "      <td>10Yr-T-60</td>\n",
              "    </tr>\n",
              "    <tr>\n",
              "      <th>112</th>\n",
              "      <td>12.2</td>\n",
              "      <td>2Yr-T-60</td>\n",
              "    </tr>\n",
              "    <tr>\n",
              "      <th>113</th>\n",
              "      <td>19.2</td>\n",
              "      <td>EEM-T-60</td>\n",
              "    </tr>\n",
              "    <tr>\n",
              "      <th>114</th>\n",
              "      <td>16.9</td>\n",
              "      <td>XLE-T-60</td>\n",
              "    </tr>\n",
              "    <tr>\n",
              "      <th>115</th>\n",
              "      <td>15.8</td>\n",
              "      <td>XLF-T-60</td>\n",
              "    </tr>\n",
              "    <tr>\n",
              "      <th>116</th>\n",
              "      <td>20.5</td>\n",
              "      <td>XLI-T-60</td>\n",
              "    </tr>\n",
              "    <tr>\n",
              "      <th>117</th>\n",
              "      <td>10.7</td>\n",
              "      <td>AUDJPY-T-60</td>\n",
              "    </tr>\n",
              "    <tr>\n",
              "      <th>118</th>\n",
              "      <td>18.1</td>\n",
              "      <td>XLK-T-60</td>\n",
              "    </tr>\n",
              "    <tr>\n",
              "      <th>119</th>\n",
              "      <td>7.2</td>\n",
              "      <td>SSE-T-60</td>\n",
              "    </tr>\n",
              "    <tr>\n",
              "      <th>120</th>\n",
              "      <td>13.5</td>\n",
              "      <td>XLP-T-60</td>\n",
              "    </tr>\n",
              "    <tr>\n",
              "      <th>121</th>\n",
              "      <td>22.7</td>\n",
              "      <td>XLY-T-60</td>\n",
              "    </tr>\n",
              "    <tr>\n",
              "      <th>122</th>\n",
              "      <td>8.8</td>\n",
              "      <td>XLU-T-60</td>\n",
              "    </tr>\n",
              "    <tr>\n",
              "      <th>123</th>\n",
              "      <td>11.5</td>\n",
              "      <td>XLV-T-60</td>\n",
              "    </tr>\n",
              "    <tr>\n",
              "      <th>124</th>\n",
              "      <td>6.3</td>\n",
              "      <td>Lockheed-T-60</td>\n",
              "    </tr>\n",
              "    <tr>\n",
              "      <th>125</th>\n",
              "      <td>8.5</td>\n",
              "      <td>Gold-T-90</td>\n",
              "    </tr>\n",
              "    <tr>\n",
              "      <th>126</th>\n",
              "      <td>10.9</td>\n",
              "      <td>USD Index-T-90</td>\n",
              "    </tr>\n",
              "    <tr>\n",
              "      <th>127</th>\n",
              "      <td>9.9</td>\n",
              "      <td>Oil-T-90</td>\n",
              "    </tr>\n",
              "    <tr>\n",
              "      <th>128</th>\n",
              "      <td>15.7</td>\n",
              "      <td>VIX-T-90</td>\n",
              "    </tr>\n",
              "    <tr>\n",
              "      <th>129</th>\n",
              "      <td>15.8</td>\n",
              "      <td>High Yield Fund-T-90</td>\n",
              "    </tr>\n",
              "    <tr>\n",
              "      <th>130</th>\n",
              "      <td>15.2</td>\n",
              "      <td>Nikkei-T-90</td>\n",
              "    </tr>\n",
              "    <tr>\n",
              "      <th>131</th>\n",
              "      <td>22.9</td>\n",
              "      <td>Dax-T-90</td>\n",
              "    </tr>\n",
              "    <tr>\n",
              "      <th>132</th>\n",
              "      <td>8.6</td>\n",
              "      <td>10Yr-T-90</td>\n",
              "    </tr>\n",
              "    <tr>\n",
              "      <th>133</th>\n",
              "      <td>22.5</td>\n",
              "      <td>EEM-T-90</td>\n",
              "    </tr>\n",
              "    <tr>\n",
              "      <th>134</th>\n",
              "      <td>19.3</td>\n",
              "      <td>XLE-T-90</td>\n",
              "    </tr>\n",
              "    <tr>\n",
              "      <th>135</th>\n",
              "      <td>16.0</td>\n",
              "      <td>XLF-T-90</td>\n",
              "    </tr>\n",
              "    <tr>\n",
              "      <th>136</th>\n",
              "      <td>12.4</td>\n",
              "      <td>AUDJPY-T-90</td>\n",
              "    </tr>\n",
              "    <tr>\n",
              "      <th>137</th>\n",
              "      <td>19.6</td>\n",
              "      <td>XLK-T-90</td>\n",
              "    </tr>\n",
              "    <tr>\n",
              "      <th>138</th>\n",
              "      <td>11.2</td>\n",
              "      <td>SSE-T-90</td>\n",
              "    </tr>\n",
              "    <tr>\n",
              "      <th>139</th>\n",
              "      <td>14.0</td>\n",
              "      <td>XLP-T-90</td>\n",
              "    </tr>\n",
              "    <tr>\n",
              "      <th>140</th>\n",
              "      <td>24.0</td>\n",
              "      <td>XLY-T-90</td>\n",
              "    </tr>\n",
              "    <tr>\n",
              "      <th>141</th>\n",
              "      <td>11.3</td>\n",
              "      <td>XLU-T-90</td>\n",
              "    </tr>\n",
              "    <tr>\n",
              "      <th>142</th>\n",
              "      <td>12.3</td>\n",
              "      <td>XLV-T-90</td>\n",
              "    </tr>\n",
              "    <tr>\n",
              "      <th>143</th>\n",
              "      <td>8.1</td>\n",
              "      <td>Lockheed-T-90</td>\n",
              "    </tr>\n",
              "    <tr>\n",
              "      <th>144</th>\n",
              "      <td>14.4</td>\n",
              "      <td>Gold-T-180</td>\n",
              "    </tr>\n",
              "    <tr>\n",
              "      <th>145</th>\n",
              "      <td>13.5</td>\n",
              "      <td>USD Index-T-180</td>\n",
              "    </tr>\n",
              "    <tr>\n",
              "      <th>146</th>\n",
              "      <td>8.7</td>\n",
              "      <td>Oil-T-180</td>\n",
              "    </tr>\n",
              "    <tr>\n",
              "      <th>147</th>\n",
              "      <td>9.7</td>\n",
              "      <td>VIX-T-180</td>\n",
              "    </tr>\n",
              "    <tr>\n",
              "      <th>148</th>\n",
              "      <td>19.9</td>\n",
              "      <td>Nikkei-T-180</td>\n",
              "    </tr>\n",
              "    <tr>\n",
              "      <th>149</th>\n",
              "      <td>19.6</td>\n",
              "      <td>Dax-T-180</td>\n",
              "    </tr>\n",
              "    <tr>\n",
              "      <th>150</th>\n",
              "      <td>10.5</td>\n",
              "      <td>10Yr-T-180</td>\n",
              "    </tr>\n",
              "    <tr>\n",
              "      <th>151</th>\n",
              "      <td>18.3</td>\n",
              "      <td>EEM-T-180</td>\n",
              "    </tr>\n",
              "    <tr>\n",
              "      <th>152</th>\n",
              "      <td>15.5</td>\n",
              "      <td>XLF-T-180</td>\n",
              "    </tr>\n",
              "    <tr>\n",
              "      <th>153</th>\n",
              "      <td>12.4</td>\n",
              "      <td>AUDJPY-T-180</td>\n",
              "    </tr>\n",
              "    <tr>\n",
              "      <th>154</th>\n",
              "      <td>21.2</td>\n",
              "      <td>SSE-T-180</td>\n",
              "    </tr>\n",
              "    <tr>\n",
              "      <th>155</th>\n",
              "      <td>19.1</td>\n",
              "      <td>XLP-T-180</td>\n",
              "    </tr>\n",
              "    <tr>\n",
              "      <th>156</th>\n",
              "      <td>18.2</td>\n",
              "      <td>XLU-T-180</td>\n",
              "    </tr>\n",
              "    <tr>\n",
              "      <th>157</th>\n",
              "      <td>17.3</td>\n",
              "      <td>XLV-T-180</td>\n",
              "    </tr>\n",
              "    <tr>\n",
              "      <th>158</th>\n",
              "      <td>14.9</td>\n",
              "      <td>Lockheed-T-180</td>\n",
              "    </tr>\n",
              "    <tr>\n",
              "      <th>159</th>\n",
              "      <td>12.6</td>\n",
              "      <td>Gold-T-250</td>\n",
              "    </tr>\n",
              "    <tr>\n",
              "      <th>160</th>\n",
              "      <td>10.0</td>\n",
              "      <td>USD Index-T-250</td>\n",
              "    </tr>\n",
              "    <tr>\n",
              "      <th>161</th>\n",
              "      <td>12.0</td>\n",
              "      <td>Oil-T-250</td>\n",
              "    </tr>\n",
              "    <tr>\n",
              "      <th>162</th>\n",
              "      <td>10.1</td>\n",
              "      <td>VIX-T-250</td>\n",
              "    </tr>\n",
              "    <tr>\n",
              "      <th>163</th>\n",
              "      <td>17.3</td>\n",
              "      <td>Nikkei-T-250</td>\n",
              "    </tr>\n",
              "    <tr>\n",
              "      <th>164</th>\n",
              "      <td>14.3</td>\n",
              "      <td>10Yr-T-250</td>\n",
              "    </tr>\n",
              "    <tr>\n",
              "      <th>165</th>\n",
              "      <td>9.9</td>\n",
              "      <td>2Yr-T-250</td>\n",
              "    </tr>\n",
              "    <tr>\n",
              "      <th>166</th>\n",
              "      <td>15.8</td>\n",
              "      <td>XLE-T-250</td>\n",
              "    </tr>\n",
              "    <tr>\n",
              "      <th>167</th>\n",
              "      <td>12.7</td>\n",
              "      <td>XLF-T-250</td>\n",
              "    </tr>\n",
              "    <tr>\n",
              "      <th>168</th>\n",
              "      <td>11.0</td>\n",
              "      <td>AUDJPY-T-250</td>\n",
              "    </tr>\n",
              "    <tr>\n",
              "      <th>169</th>\n",
              "      <td>14.0</td>\n",
              "      <td>XLK-T-250</td>\n",
              "    </tr>\n",
              "    <tr>\n",
              "      <th>170</th>\n",
              "      <td>17.9</td>\n",
              "      <td>SSE-T-250</td>\n",
              "    </tr>\n",
              "    <tr>\n",
              "      <th>171</th>\n",
              "      <td>12.3</td>\n",
              "      <td>XLY-T-250</td>\n",
              "    </tr>\n",
              "    <tr>\n",
              "      <th>172</th>\n",
              "      <td>16.7</td>\n",
              "      <td>XLU-T-250</td>\n",
              "    </tr>\n",
              "    <tr>\n",
              "      <th>173</th>\n",
              "      <td>20.3</td>\n",
              "      <td>XLV-T-250</td>\n",
              "    </tr>\n",
              "    <tr>\n",
              "      <th>174</th>\n",
              "      <td>14.2</td>\n",
              "      <td>Lockheed-T-250</td>\n",
              "    </tr>\n",
              "    <tr>\n",
              "      <th>175</th>\n",
              "      <td>17.7</td>\n",
              "      <td>SPX/15SMA</td>\n",
              "    </tr>\n",
              "    <tr>\n",
              "      <th>176</th>\n",
              "      <td>18.1</td>\n",
              "      <td>SPX/60SMA</td>\n",
              "    </tr>\n",
              "  </tbody>\n",
              "</table>\n",
              "</div>"
            ],
            "text/plain": [
              "     VIF Factor              features\n",
              "0           1.9         USD Index-T-1\n",
              "1           3.3               VIX-T-1\n",
              "2           1.8              Gold-T-1\n",
              "3           1.2               Oil-T-1\n",
              "4           1.8            Nikkei-T-1\n",
              "5           2.7               Dax-T-1\n",
              "6           3.3              10Yr-T-1\n",
              "7           3.2               2Yr-T-1\n",
              "8           4.5               EEM-T-1\n",
              "9           2.8   High Yield Fund-T-1\n",
              "10          3.8               XLE-T-1\n",
              "11          4.6               XLF-T-1\n",
              "12          9.6               XLI-T-1\n",
              "13          1.9            AUDJPY-T-1\n",
              "14          4.9               XLK-T-1\n",
              "15          1.6               SSE-T-1\n",
              "16          3.8               XLP-T-1\n",
              "17          7.3               XLY-T-1\n",
              "18          3.0               XLU-T-1\n",
              "19          4.5               XLV-T-1\n",
              "20          2.3          Lockheed-T-1\n",
              "21          4.0         USD Index-T-3\n",
              "22          6.1               VIX-T-3\n",
              "23          3.9              Gold-T-3\n",
              "24          1.2               Oil-T-3\n",
              "25          3.9            Nikkei-T-3\n",
              "26          6.3               Dax-T-3\n",
              "27          6.7              10Yr-T-3\n",
              "28          6.2               2Yr-T-3\n",
              "29          8.0               EEM-T-3\n",
              "30          8.5   High Yield Fund-T-3\n",
              "31          6.9               XLE-T-3\n",
              "32          8.4               XLF-T-3\n",
              "33         19.2               XLI-T-3\n",
              "34          4.2            AUDJPY-T-3\n",
              "35          8.8               XLK-T-3\n",
              "36          3.2               SSE-T-3\n",
              "37          6.9               XLP-T-3\n",
              "38         14.3               XLY-T-3\n",
              "39          5.7               XLU-T-3\n",
              "40          8.0               XLV-T-3\n",
              "41          4.2          Lockheed-T-3\n",
              "42          4.6         USD Index-T-5\n",
              "43          6.3               VIX-T-5\n",
              "44          4.4              Gold-T-5\n",
              "45          1.3               Oil-T-5\n",
              "46          4.5            Nikkei-T-5\n",
              "47          7.6               Dax-T-5\n",
              "48          7.1              10Yr-T-5\n",
              "49          6.3               2Yr-T-5\n",
              "50          8.9               EEM-T-5\n",
              "51          8.7   High Yield Fund-T-5\n",
              "52          7.9               XLE-T-5\n",
              "53          8.6               XLF-T-5\n",
              "54         19.5               XLI-T-5\n",
              "55          4.8            AUDJPY-T-5\n",
              "56          9.1               XLK-T-5\n",
              "57          3.6               SSE-T-5\n",
              "58          7.3               XLP-T-5\n",
              "59         15.1               XLY-T-5\n",
              "60          5.8               XLU-T-5\n",
              "61          8.1               XLV-T-5\n",
              "62          4.4          Lockheed-T-5\n",
              "63          6.2        USD Index-T-14\n",
              "64          7.0              VIX-T-14\n",
              "65          5.3             Gold-T-14\n",
              "66          1.2              Oil-T-14\n",
              "67          6.8           Nikkei-T-14\n",
              "68         11.7              Dax-T-14\n",
              "69          9.0             10Yr-T-14\n",
              "70          7.8              2Yr-T-14\n",
              "71         11.3              EEM-T-14\n",
              "72          9.3  High Yield Fund-T-14\n",
              "73          9.2              XLE-T-14\n",
              "74          9.3              XLF-T-14\n",
              "75          6.6           AUDJPY-T-14\n",
              "76         10.8              XLK-T-14\n",
              "77          4.6              SSE-T-14\n",
              "78          8.8              XLP-T-14\n",
              "79         16.4              XLY-T-14\n",
              "80          6.5              XLU-T-14\n",
              "81          9.1              XLV-T-14\n",
              "82          5.4         Lockheed-T-14\n",
              "83          6.6        USD Index-T-21\n",
              "84          8.8              VIX-T-21\n",
              "85          5.6             Gold-T-21\n",
              "86          1.3              Oil-T-21\n",
              "87          7.7           Nikkei-T-21\n",
              "88         13.0              Dax-T-21\n",
              "89         11.1             10Yr-T-21\n",
              "90         10.0              2Yr-T-21\n",
              "91         12.4              EEM-T-21\n",
              "92         10.1  High Yield Fund-T-21\n",
              "93          9.3              XLE-T-21\n",
              "94         11.3              XLF-T-21\n",
              "95         16.5              XLI-T-21\n",
              "96          7.6           AUDJPY-T-21\n",
              "97         13.3              XLK-T-21\n",
              "98          5.2              SSE-T-21\n",
              "99          9.8              XLP-T-21\n",
              "100        19.2              XLY-T-21\n",
              "101         7.1              XLU-T-21\n",
              "102        10.1              XLV-T-21\n",
              "103         5.8         Lockheed-T-21\n",
              "104         6.6             Gold-T-60\n",
              "105         8.1        USD Index-T-60\n",
              "106         8.3              Oil-T-60\n",
              "107        14.8              VIX-T-60\n",
              "108        14.3  High Yield Fund-T-60\n",
              "109        11.4           Nikkei-T-60\n",
              "110        18.4              Dax-T-60\n",
              "111        12.1             10Yr-T-60\n",
              "112        12.2              2Yr-T-60\n",
              "113        19.2              EEM-T-60\n",
              "114        16.9              XLE-T-60\n",
              "115        15.8              XLF-T-60\n",
              "116        20.5              XLI-T-60\n",
              "117        10.7           AUDJPY-T-60\n",
              "118        18.1              XLK-T-60\n",
              "119         7.2              SSE-T-60\n",
              "120        13.5              XLP-T-60\n",
              "121        22.7              XLY-T-60\n",
              "122         8.8              XLU-T-60\n",
              "123        11.5              XLV-T-60\n",
              "124         6.3         Lockheed-T-60\n",
              "125         8.5             Gold-T-90\n",
              "126        10.9        USD Index-T-90\n",
              "127         9.9              Oil-T-90\n",
              "128        15.7              VIX-T-90\n",
              "129        15.8  High Yield Fund-T-90\n",
              "130        15.2           Nikkei-T-90\n",
              "131        22.9              Dax-T-90\n",
              "132         8.6             10Yr-T-90\n",
              "133        22.5              EEM-T-90\n",
              "134        19.3              XLE-T-90\n",
              "135        16.0              XLF-T-90\n",
              "136        12.4           AUDJPY-T-90\n",
              "137        19.6              XLK-T-90\n",
              "138        11.2              SSE-T-90\n",
              "139        14.0              XLP-T-90\n",
              "140        24.0              XLY-T-90\n",
              "141        11.3              XLU-T-90\n",
              "142        12.3              XLV-T-90\n",
              "143         8.1         Lockheed-T-90\n",
              "144        14.4            Gold-T-180\n",
              "145        13.5       USD Index-T-180\n",
              "146         8.7             Oil-T-180\n",
              "147         9.7             VIX-T-180\n",
              "148        19.9          Nikkei-T-180\n",
              "149        19.6             Dax-T-180\n",
              "150        10.5            10Yr-T-180\n",
              "151        18.3             EEM-T-180\n",
              "152        15.5             XLF-T-180\n",
              "153        12.4          AUDJPY-T-180\n",
              "154        21.2             SSE-T-180\n",
              "155        19.1             XLP-T-180\n",
              "156        18.2             XLU-T-180\n",
              "157        17.3             XLV-T-180\n",
              "158        14.9        Lockheed-T-180\n",
              "159        12.6            Gold-T-250\n",
              "160        10.0       USD Index-T-250\n",
              "161        12.0             Oil-T-250\n",
              "162        10.1             VIX-T-250\n",
              "163        17.3          Nikkei-T-250\n",
              "164        14.3            10Yr-T-250\n",
              "165         9.9             2Yr-T-250\n",
              "166        15.8             XLE-T-250\n",
              "167        12.7             XLF-T-250\n",
              "168        11.0          AUDJPY-T-250\n",
              "169        14.0             XLK-T-250\n",
              "170        17.9             SSE-T-250\n",
              "171        12.3             XLY-T-250\n",
              "172        16.7             XLU-T-250\n",
              "173        20.3             XLV-T-250\n",
              "174        14.2        Lockheed-T-250\n",
              "175        17.7             SPX/15SMA\n",
              "176        18.1             SPX/60SMA"
            ]
          },
          "metadata": {
            "tags": []
          },
          "execution_count": 173
        }
      ]
    },
    {
      "cell_type": "code",
      "metadata": {
        "id": "SOnCe7wMGVQ9",
        "colab_type": "code",
        "colab": {}
      },
      "source": [
        "X_train, X_test, y_train, y_test = train_test_split(X, y, test_size = 0.3, random_state = 42, stratify = y)"
      ],
      "execution_count": null,
      "outputs": []
    },
    {
      "cell_type": "code",
      "metadata": {
        "id": "kVbLx-WTGVfR",
        "colab_type": "code",
        "colab": {}
      },
      "source": [
        "mm = MinMaxScaler()\n",
        "X_train = mm.fit_transform(X_train)\n",
        "X_test = mm.transform(X_test)"
      ],
      "execution_count": null,
      "outputs": []
    },
    {
      "cell_type": "code",
      "metadata": {
        "id": "SC60mqS7GV4W",
        "colab_type": "code",
        "colab": {}
      },
      "source": [
        "smt = SMOTETomek()\n",
        "X_train, y_train = smt.fit_sample(X_train, y_train)"
      ],
      "execution_count": null,
      "outputs": []
    },
    {
      "cell_type": "code",
      "metadata": {
        "id": "qM9wnohkGWDs",
        "colab_type": "code",
        "colab": {
          "base_uri": "https://localhost:8080/",
          "height": 443
        },
        "outputId": "453589fe-94a6-45b0-ead0-43991b5c33de"
      },
      "source": [
        "knn = KNeighborsClassifier(algorithm='auto', leaf_size=37, metric='minkowski',\n",
        "                     metric_params=None, n_jobs=None, n_neighbors=4, p=1,\n",
        "                     weights='uniform')\n",
        "knn.fit(X_train,y_train)\n",
        "y_pred = knn.predict_proba(X_test)\n",
        "cm = ConfusionMatrix(knn)\n",
        "cm.fit(X_train, y_train)\n",
        "cm.score(X_test, y_test)\n",
        "cm.show()"
      ],
      "execution_count": null,
      "outputs": [
        {
          "output_type": "stream",
          "text": [
            "/usr/local/lib/python3.6/dist-packages/sklearn/base.py:197: FutureWarning: From version 0.24, get_params will raise an AttributeError if a parameter cannot be retrieved as an instance attribute. Previously it would return None.\n",
            "  FutureWarning)\n"
          ],
          "name": "stderr"
        },
        {
          "output_type": "display_data",
          "data": {
            "image/png": "[encoded data removed]",
            "text/plain": [
              "<Figure size 576x396 with 1 Axes>"
            ]
          },
          "metadata": {
            "tags": []
          }
        },
        {
          "output_type": "execute_result",
          "data": {
            "text/plain": [
              "<matplotlib.axes._subplots.AxesSubplot at 0x7f0996ab9668>"
            ]
          },
          "metadata": {
            "tags": []
          },
          "execution_count": 176
        }
      ]
    },
    {
      "cell_type": "code",
      "metadata": {
        "id": "24mU9URKYPeQ",
        "colab_type": "code",
        "colab": {
          "base_uri": "https://localhost:8080/",
          "height": 67
        },
        "outputId": "f9b99fff-a4c9-4015-fd74-8c8bb05acf54"
      },
      "source": [
        "k_range = np.arange(1,61)\n",
        "weights = [\"uniform\",\"distance\"]\n",
        "algorithm = [\"auto\", \"ball_tree\",\"kd_tree\",\"brute\"]\n",
        "p = [1,2]\n",
        "leaf_size_range = np.arange(1,71)\n",
        "param_grid = dict(n_neighbors = k_range, weights = weights, leaf_size = leaf_size_range,p = p)\n",
        "knn = KNeighborsClassifier()\n",
        "randomized = RandomizedSearchCV(knn, param_grid,scoring = \"f1\", cv = 5, n_iter = 20)\n",
        "randomized.fit(X_train,y_train)\n",
        "randomized.best_estimator_"
      ],
      "execution_count": null,
      "outputs": [
        {
          "output_type": "execute_result",
          "data": {
            "text/plain": [
              "KNeighborsClassifier(algorithm='auto', leaf_size=37, metric='minkowski',\n",
              "                     metric_params=None, n_jobs=None, n_neighbors=4, p=1,\n",
              "                     weights='uniform')"
            ]
          },
          "metadata": {
            "tags": []
          },
          "execution_count": 35
        }
      ]
    },
    {
      "cell_type": "code",
      "metadata": {
        "id": "gkCqpekwt0Gx",
        "colab_type": "code",
        "colab": {}
      },
      "source": [
        "catb = CatBoostClassifier(iterations=5000,scale_pos_weight=6)\n",
        "catb.fit(X_train, y_train)\n",
        "y_pred = catb.predict_proba(X_test)\n",
        "cm = get_confusion_matrix(catb, Pool(X_test, y_test))\n",
        "print(cm)"
      ],
      "execution_count": null,
      "outputs": []
    },
    {
      "cell_type": "code",
      "metadata": {
        "id": "o6CbeqC8TREA",
        "colab_type": "code",
        "colab": {
          "base_uri": "https://localhost:8080/",
          "height": 443
        },
        "outputId": "00a0b5ad-b1d2-472a-d1e4-affa4ccd8254"
      },
      "source": [
        "et = ExtraTreesClassifier(bootstrap=False, ccp_alpha=0.0,\n",
        "                     class_weight='balanced_subsample', criterion='entropy',\n",
        "                     max_depth=None, max_features='auto', max_leaf_nodes=None,\n",
        "                     max_samples=None, min_impurity_decrease=0.0,\n",
        "                     min_impurity_split=None, min_samples_leaf=1,\n",
        "                     min_samples_split=2, min_weight_fraction_leaf=0.0,\n",
        "                     n_estimators=117, n_jobs=None, oob_score=False,\n",
        "                     random_state=None, verbose=0, warm_start=False)\n",
        "et.fit(X_train,y_train)\n",
        "y_pred = et.predict_proba(X_test)\n",
        "cm = ConfusionMatrix(et)\n",
        "cm.fit(X_train, y_train)\n",
        "cm.score(X_test, y_test)\n",
        "cm.show()"
      ],
      "execution_count": null,
      "outputs": [
        {
          "output_type": "stream",
          "text": [
            "/usr/local/lib/python3.6/dist-packages/sklearn/base.py:197: FutureWarning: From version 0.24, get_params will raise an AttributeError if a parameter cannot be retrieved as an instance attribute. Previously it would return None.\n",
            "  FutureWarning)\n"
          ],
          "name": "stderr"
        },
        {
          "output_type": "display_data",
          "data": {
            "image/png": "[encoded data removed]",
            "text/plain": [
              "<Figure size 576x396 with 1 Axes>"
            ]
          },
          "metadata": {
            "tags": []
          }
        },
        {
          "output_type": "execute_result",
          "data": {
            "text/plain": [
              "<matplotlib.axes._subplots.AxesSubplot at 0x7f099414f5c0>"
            ]
          },
          "metadata": {
            "tags": []
          },
          "execution_count": 177
        }
      ]
    },
    {
      "cell_type": "code",
      "metadata": {
        "id": "c445olDLg8rB",
        "colab_type": "code",
        "colab": {
          "base_uri": "https://localhost:8080/",
          "height": 202
        },
        "outputId": "ab6fb722-fc0a-4214-84fd-ef1f22aae927"
      },
      "source": [
        "estimator_range = np.arange(1,350)\n",
        "criterion = [\"gini\",\"entropy\"]\n",
        "depth = np.arange(1,100)\n",
        "features = [\"auto\",\"sqrt\",\"log2\"]\n",
        "class_weight = [\"balanced\", \"balanced_subsample\"]\n",
        "leaf_size_range = np.arange(1,71)\n",
        "param_grid = dict(n_estimators = estimator_range, criterion = criterion, max_features = features, class_weight = class_weight)\n",
        "et = ExtraTreesClassifier()\n",
        "randomized = RandomizedSearchCV(et, param_grid,scoring = \"f1\", cv = 5, n_iter = 20, verbose= True)\n",
        "randomized.fit(X_train,y_train)\n",
        "randomized.best_estimator_"
      ],
      "execution_count": null,
      "outputs": [
        {
          "output_type": "stream",
          "text": [
            "Fitting 5 folds for each of 20 candidates, totalling 100 fits\n"
          ],
          "name": "stdout"
        },
        {
          "output_type": "stream",
          "text": [
            "[Parallel(n_jobs=1)]: Using backend SequentialBackend with 1 concurrent workers.\n",
            "[Parallel(n_jobs=1)]: Done 100 out of 100 | elapsed:  2.3min finished\n"
          ],
          "name": "stderr"
        },
        {
          "output_type": "execute_result",
          "data": {
            "text/plain": [
              "ExtraTreesClassifier(bootstrap=False, ccp_alpha=0.0,\n",
              "                     class_weight='balanced_subsample', criterion='entropy',\n",
              "                     max_depth=None, max_features='auto', max_leaf_nodes=None,\n",
              "                     max_samples=None, min_impurity_decrease=0.0,\n",
              "                     min_impurity_split=None, min_samples_leaf=1,\n",
              "                     min_samples_split=2, min_weight_fraction_leaf=0.0,\n",
              "                     n_estimators=117, n_jobs=None, oob_score=False,\n",
              "                     random_state=None, verbose=0, warm_start=False)"
            ]
          },
          "metadata": {
            "tags": []
          },
          "execution_count": 91
        }
      ]
    },
    {
      "cell_type": "code",
      "metadata": {
        "id": "CQJwyLo0Tq-H",
        "colab_type": "code",
        "colab": {
          "base_uri": "https://localhost:8080/",
          "height": 443
        },
        "outputId": "26e2868a-c401-462c-ba7a-19a8123026b3"
      },
      "source": [
        "lgbm = LGBMClassifier(class_weight={0: 6, 1: 1})\n",
        "lgbm.fit(X_train,y_train)\n",
        "y_pred = lgbm.predict_proba(X_test)\n",
        "cm = ConfusionMatrix(lgbm)\n",
        "cm.fit(X_train, y_train)\n",
        "cm.score(X_test, y_test)\n",
        "cm.show()"
      ],
      "execution_count": null,
      "outputs": [
        {
          "output_type": "stream",
          "text": [
            "/usr/local/lib/python3.6/dist-packages/sklearn/base.py:197: FutureWarning: From version 0.24, get_params will raise an AttributeError if a parameter cannot be retrieved as an instance attribute. Previously it would return None.\n",
            "  FutureWarning)\n"
          ],
          "name": "stderr"
        },
        {
          "output_type": "display_data",
          "data": {
            "image/png": "[encoded data removed]",
            "text/plain": [
              "<Figure size 576x396 with 1 Axes>"
            ]
          },
          "metadata": {
            "tags": []
          }
        },
        {
          "output_type": "execute_result",
          "data": {
            "text/plain": [
              "<matplotlib.axes._subplots.AxesSubplot at 0x7f309a8331d0>"
            ]
          },
          "metadata": {
            "tags": []
          },
          "execution_count": 82
        }
      ]
    },
    {
      "cell_type": "code",
      "metadata": {
        "id": "6tzj-UWXxsyO",
        "colab_type": "code",
        "colab": {
          "base_uri": "https://localhost:8080/",
          "height": 134
        },
        "outputId": "7ca59bb5-05ba-4fe7-e60e-a0afdda6daf6"
      },
      "source": [
        "estimator_range = np.arange(1,350)\n",
        "boosting = ['gbdt', 'dart']\n",
        "max_depth = np.arange(15, 50)\n",
        "n_estimators = np.arange(50 , 150)\n",
        "param_grid = dict(n_estimators = n_estimators, max_depth = max_depth, boosting = boosting, estimator_range = estimator_range)\n",
        "lgbm = LGBMClassifier(silent = False)\n",
        "randomized = RandomizedSearchCV(lgbm, param_grid,scoring = \"f1\", cv = 5, n_iter = 20)\n",
        "randomized.fit(X_train,y_train)\n",
        "randomized.best_estimator_"
      ],
      "execution_count": null,
      "outputs": [
        {
          "output_type": "execute_result",
          "data": {
            "text/plain": [
              "LGBMClassifier(boosting='gbdt', boosting_type='gbdt', class_weight=None,\n",
              "               colsample_bytree=1.0, estimator_range=203,\n",
              "               importance_type='split', learning_rate=0.1, max_depth=27,\n",
              "               min_child_samples=20, min_child_weight=0.001, min_split_gain=0.0,\n",
              "               n_estimators=126, n_jobs=-1, num_leaves=31, objective=None,\n",
              "               random_state=None, reg_alpha=0.0, reg_lambda=0.0, silent=False,\n",
              "               subsample=1.0, subsample_for_bin=200000, subsample_freq=0)"
            ]
          },
          "metadata": {
            "tags": []
          },
          "execution_count": 76
        }
      ]
    },
    {
      "cell_type": "code",
      "metadata": {
        "id": "D9dkEW8VGWSz",
        "colab_type": "code",
        "colab": {}
      },
      "source": [
        "xgb = XGBClassifier( scale_pos_weight = 6,base_score=0.5, booster='gbtree', colsample_bylevel=1,\n",
        "              colsample_bynode=1, colsample_bytree=1, gamma=0,\n",
        "              learning_rate=0.1, max_delta_step=0, max_depth=5,\n",
        "              min_child_weight=1, missing=None, n_estimators=200, n_jobs=1,\n",
        "              nthread=None, objective='binary:logistic', random_state=0,\n",
        "              reg_alpha=0, reg_lambda=1, seed=123,\n",
        "              silent=None, subsample=1, verbosity=1)\n",
        "xgb_gs.fit(X_train,y_train)\n",
        "print (\"_________________________________Model Selection_____________________________________\")\n",
        "print (\"Best estimator found by grid search:\",xgb_gs.best_estimator_)\n",
        "print (\"Best parameters found by grid search:\",xgb_gs.best_params_)\n",
        "print (\"Best accuracy score found by grid search:\",xgb_gs.best_score_)\n",
        "print ()"
      ],
      "execution_count": null,
      "outputs": []
    },
    {
      "cell_type": "code",
      "metadata": {
        "id": "QIExjb0g5Efg",
        "colab_type": "code",
        "colab": {
          "base_uri": "https://localhost:8080/",
          "height": 593
        },
        "outputId": "07aea71b-32de-442a-bcf4-0dd902d8769d"
      },
      "source": [
        "def classifier_measures(y_test,model_pred):\n",
        "    # output confusion matrix\n",
        "    print (\"-------------------------------------Accuracy-----------------------------------------\")\n",
        "    Accuracy = accuracy_score(y_test, model_pred)\n",
        "    print (\"Accuracy:\",Accuracy)\n",
        "    print (\"---------------------------------Confusion Matrix-------------------------------------\")\n",
        "    model_matrix = confusion_matrix(y_test, model_pred)\n",
        "    # print ('Confusion matrix:\\n',model_matrix)\n",
        "    fig= plt.figure(figsize=(6,3))# to plot the graph\n",
        "    print(\"TP\",model_matrix[1,1,]) # no of Fraud transaction which are predicted Fraud\n",
        "    print(\"TN\",model_matrix[0,0]) # no. of normal transaction which are predited normal\n",
        "    print(\"FP\",model_matrix[0,1]) # no of normal transaction which are predicted Fraud\n",
        "    print(\"FN\",model_matrix[1,0]) # no of Fraud Transaction which are predicted normal\n",
        "    sns.heatmap(model_matrix,cmap=\"coolwarm_r\",annot=True,linewidths=0.5)\n",
        "    plt.title(\"Confusion_matrix\")\n",
        "    plt.xlabel(\"Predicted_class\")\n",
        "    plt.ylabel(\"Real class\")\n",
        "    plt.show()\n",
        "\n",
        "    print()\n",
        "    print (\"--------------------------------Precession and Recall---------------------------------\")\n",
        "    target_names = ['0',\"1\"]\n",
        "    print(classification_report(y_test, model_pred, target_names=target_names))\n",
        "\n",
        "# Predict new values using best model derived from cross validation and test performance on the test set\n",
        "xgb_pred = xgb_gs.predict(X_test)\n",
        "xgb_prob = xgb_gs.predict_proba(X_test)\n",
        "xgb_score = xgb_gs.score(X_test, y_test)\n",
        "print (\"________________________________Model Prediction_____________________________________\")\n",
        "print ('F1-measure:', xgb_score)\n",
        "print ()\n",
        "classifier_measures(y_test,xgb_pred)"
      ],
      "execution_count": null,
      "outputs": [
        {
          "output_type": "stream",
          "text": [
            "________________________________Model Prediction_____________________________________\n",
            "F1-measure: 0.7888888888888889\n",
            "\n",
            "-------------------------------------Accuracy-----------------------------------------\n",
            "Accuracy: 0.9250493096646942\n",
            "---------------------------------Confusion Matrix-------------------------------------\n",
            "TP 213\n",
            "TN 1194\n",
            "FP 73\n",
            "FN 41\n"
          ],
          "name": "stdout"
        },
        {
          "output_type": "display_data",
          "data": {
            "image/png": "[encoded data removed]",
            "text/plain": [
              "<Figure size 432x216 with 2 Axes>"
            ]
          },
          "metadata": {
            "tags": []
          }
        },
        {
          "output_type": "stream",
          "text": [
            "\n",
            "--------------------------------Precession and Recall---------------------------------\n",
            "              precision    recall  f1-score   support\n",
            "\n",
            "           0       0.97      0.94      0.95      1267\n",
            "           1       0.74      0.84      0.79       254\n",
            "\n",
            "    accuracy                           0.93      1521\n",
            "   macro avg       0.86      0.89      0.87      1521\n",
            "weighted avg       0.93      0.93      0.93      1521\n",
            "\n"
          ],
          "name": "stdout"
        }
      ]
    },
    {
      "cell_type": "code",
      "metadata": {
        "id": "g-OmfzxVA600",
        "colab_type": "code",
        "colab": {}
      },
      "source": [
        ""
      ],
      "execution_count": null,
      "outputs": []
    },
    {
      "cell_type": "code",
      "metadata": {
        "id": "0l7x-mdJVl9h",
        "colab_type": "code",
        "colab": {}
      },
      "source": [
        "classifier1 = KNeighborsClassifier(n_neighbors = 6,weights= 'uniform',p = 2)\n",
        "classifier2 = LGBMClassifier(class_weight={0: 1, 1: 5})\n",
        "classifier3 = XGBClassifier( scale_pos_weight = 6,base_score=0.5, booster='gbtree', colsample_bylevel=1,\n",
        "              colsample_bynode=1, colsample_bytree=1, gamma=0,\n",
        "              learning_rate=0.1, max_delta_step=0, max_depth=5,\n",
        "              min_child_weight=1, missing=None, n_estimators=200, n_jobs=1,\n",
        "              nthread=None, objective='binary:logistic', random_state=0,\n",
        "              reg_alpha=0, reg_lambda=1, seed=123,\n",
        "              silent=None, subsample=1, verbosity=1)\n",
        "classifier4 = CatBoostClassifier(iterations=5000)\n",
        "classifier5 = ExtraTreesClassifier(class_weight= \"balanced\", max_features= \"log2\", n_estimators = 325)\n",
        "\n",
        "sclf = StackingCVClassifier(classifiers = [classifier1, classifier2, classifier4, classifier5],\n",
        "                            shuffle = False,\n",
        "                            use_probas = True,\n",
        "                            cv = 5,\n",
        "                            meta_classifier = CatBoostClassifier())\n",
        "\n",
        "classifiers = {\"KNN\": classifier1,\n",
        "               \"LGBM\": classifier2,\n",
        "               \"XGB\": classifier3,\n",
        "               \"CatBoost\": classifier4,\n",
        "               \"ET\": classifier5,\n",
        "               \"Stack\": sclf}\n",
        "\n",
        "# Train classifiers\n",
        "for key in classifiers:\n",
        "    # Get classifier\n",
        "    classifier = classifiers[key]\n",
        "    \n",
        "    # Fit classifier\n",
        "    classifier.fit(X_train, y_train)\n",
        "        \n",
        "    # Save fitted classifier\n",
        "    classifiers[key] = classifier\n",
        "\n",
        "pred = sclf.predict( X_test) \n",
        "\n"
      ],
      "execution_count": null,
      "outputs": []
    },
    {
      "cell_type": "code",
      "metadata": {
        "id": "A2WiDQg4tKao",
        "colab_type": "code",
        "colab": {}
      },
      "source": [
        "# Get results\n",
        "results = pd.DataFrame()\n",
        "for key in classifiers:\n",
        "    # Make prediction on test set\n",
        "    y_pred = classifiers[key].predict(X_test)\n",
        "    \n",
        "    # Save results in pandas dataframe object\n",
        "    results[f\"{key}\"] = y_pred\n",
        "\n",
        "# Add the test set to the results object\n",
        "results[\"Target\"] = y_test"
      ],
      "execution_count": null,
      "outputs": []
    },
    {
      "cell_type": "code",
      "metadata": {
        "id": "Pi7vdirst3Mh",
        "colab_type": "code",
        "colab": {
          "base_uri": "https://localhost:8080/",
          "height": 34
        },
        "outputId": "7e8ccbd4-df5a-4bd2-eb7d-ba899f62834c"
      },
      "source": [
        "pred_stack = results[ 'Stack' ] \n",
        "score = f1_score( y_test, pred_stack ) \n",
        "score"
      ],
      "execution_count": null,
      "outputs": [
        {
          "output_type": "execute_result",
          "data": {
            "text/plain": [
              "0.7400468384074942"
            ]
          },
          "metadata": {
            "tags": []
          },
          "execution_count": 85
        }
      ]
    },
    {
      "cell_type": "code",
      "metadata": {
        "id": "LS0_Ls8jf6eh",
        "colab_type": "code",
        "colab": {}
      },
      "source": [
        "iterations = np.arange(1,5000)\n",
        "l2_leaf_reg = np.arange(2,30)\n",
        "\n",
        "param_grid = dict(iterations = iterations, l2_leaf_reg = l2_leaf_reg)\n",
        "Stack = CatBoostClassifier()\n",
        "randomized = RandomizedSearchCV(Stack, param_grid,scoring = \"f1\", cv = 5, n_iter = 20)\n",
        "randomized.fit(X_train,y_train)\n",
        "randomized.best_estimator_"
      ],
      "execution_count": null,
      "outputs": []
    },
    {
      "cell_type": "code",
      "metadata": {
        "id": "ahCD7BgEuYHr",
        "colab_type": "code",
        "colab": {
          "base_uri": "https://localhost:8080/",
          "height": 50
        },
        "outputId": "7cc1385b-9d6b-41d1-a3d3-6717a4e90d89"
      },
      "source": [
        "from sklearn.metrics import confusion_matrix\n",
        "\n",
        "pred = sclf.predict( X_test ) \n",
        "\n",
        "confusion_matrix( y_test, pred ) "
      ],
      "execution_count": null,
      "outputs": [
        {
          "output_type": "execute_result",
          "data": {
            "text/plain": [
              "array([[1247,   20],\n",
              "       [  95,  159]])"
            ]
          },
          "metadata": {
            "tags": []
          },
          "execution_count": 100
        }
      ]
    },
    {
      "cell_type": "code",
      "metadata": {
        "id": "swXkTJexlpZR",
        "colab_type": "code",
        "colab": {}
      },
      "source": [
        "#DONT RUN \n",
        "#DONT RUN\n",
        "\n",
        "#X_train, X_test, y_train, y_test = train_test_split(X, y, test_size = 0.3, random_state = 0)\n",
        "\n",
        "#mm = MinMaxScaler()\n",
        "#X_train = mm.fit_transform(X_train)\n",
        "#X_test = mm.transform(X_test)\n",
        "\n",
        "#smt = SMOTETomek()\n",
        "#X_train_SMOTE, y_train_SMOTE = smt.fit_sample(X_train, y_train)\n",
        "\n",
        "#data_train = pd.concat( [ pd.DataFrame( X_train ), pd.DataFrame( y_train ) ], axis = 1 )\n",
        "#data_train.columns = data_14.columns\n",
        "#data_test = pd.concat([pd.DataFrame(X_test), pd.DataFrame(y_test)],axis = 1)\n",
        "#data_test.columns = data_14.columns\n",
        "#data_train.head()\n",
        "#data_test.head()\n"
      ],
      "execution_count": null,
      "outputs": []
    },
    {
      "cell_type": "code",
      "metadata": {
        "id": "7JtAOI2l-8qV",
        "colab_type": "code",
        "colab": {}
      },
      "source": [
        "!pip install hmmlearn"
      ],
      "execution_count": null,
      "outputs": []
    },
    {
      "cell_type": "code",
      "metadata": {
        "id": "rzDhvMg__8fQ",
        "colab_type": "code",
        "colab": {}
      },
      "source": [
        "!pip install quandl"
      ],
      "execution_count": null,
      "outputs": []
    }
  ]
}